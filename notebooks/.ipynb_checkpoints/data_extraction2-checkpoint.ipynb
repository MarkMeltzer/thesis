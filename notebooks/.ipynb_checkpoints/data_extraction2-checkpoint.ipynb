{
 "cells": [
  {
   "cell_type": "code",
   "execution_count": 181,
   "metadata": {},
   "outputs": [],
   "source": [
    "import PyPDF2 as ppdf2\n",
    "import PyPDF4 as ppdf4\n",
    "import pdfrw\n",
    "import pdfminer.high_level\n",
    "import requests\n",
    "from pprint import pprint\n",
    "from bs4 import BeautifulSoup\n",
    "from zipfile import ZipFile\n",
    "from tqdm.notebook import tqdm\n",
    "import os\n",
    "import random\n",
    "from pdfminer.layout import LAParams\n",
    "from io import StringIO\n",
    "import shutil\n",
    "import json\n",
    "\n",
    "DATA_PATH = \"../data\""
   ]
  },
  {
   "cell_type": "markdown",
   "metadata": {},
   "source": [
    "# Retrieving the documents"
   ]
  },
  {
   "cell_type": "code",
   "execution_count": 2,
   "metadata": {},
   "outputs": [
    {
     "name": "stdout",
     "output_type": "stream",
     "text": [
      "128  cftIds found!\n"
     ]
    }
   ],
   "source": [
    "# scrape the etendering search result website for tender ids\n",
    "search_results_url = \"https://etendering.ted.europa.eu/cft/cft-search.html?_caList=1&_procedureTypeForthcoming=1&_procedureTypeOngoing=1&caList=67&closingDateFrom=&closingDateTo=&confirm=Search&procedureTypeForthcoming=&procedureTypeOngoing=&startDateFrom=&startDateTo=&status=&text=&maxResults=250\"\n",
    "res = requests.get(search_results_url)\n",
    "soup = BeautifulSoup(res.content, 'html.parser')\n",
    "\n",
    "table = soup.find(id=\"row\")\n",
    "tbody = table.find(\"tbody\")\n",
    "rows = tbody.find_all(\"tr\")\n",
    "\n",
    "cftIds = []\n",
    "for row in rows:\n",
    "    cftId = row.find_all(\"td\")[1].find(\"a\")[\"href\"].split(\"cftId\")[-1][1:]\n",
    "    cftIds.append(cftId)\n",
    "print(len(cftIds), \" cftIds found!\")"
   ]
  },
  {
   "cell_type": "code",
   "execution_count": 54,
   "metadata": {},
   "outputs": [
    {
     "data": {
      "application/vnd.jupyter.widget-view+json": {
       "model_id": "46d1f2ddbc854fb1aacb2d187e256da9",
       "version_major": 2,
       "version_minor": 0
      },
      "text/plain": [
       "  0%|          | 0/128 [00:00<?, ?it/s]"
      ]
     },
     "metadata": {},
     "output_type": "display_data"
    },
    {
     "name": "stdout",
     "output_type": "stream",
     "text": [
      "127  zips downloaded!\n"
     ]
    }
   ],
   "source": [
    "# get all the zip files containing tender documents\n",
    "base_zip_url = \"https://etendering.ted.europa.eu/document/archive-download.html?cftId=[CFTID]&lngIso=en\"\n",
    "\n",
    "for i, cftId in tqdm(enumerate(cftIds), total=len(cftIds)):\n",
    "    url = base_zip_url.replace(\"[CFTID]\", cftId)\n",
    "    \n",
    "    with open(DATA_PATH + \"/ZIP/\" + cftId + \".zip\", \"wb\") as f:\n",
    "        f.write(requests.get(url).content)\n",
    "        \n",
    "print(i, \" zips downloaded!\")"
   ]
  },
  {
   "cell_type": "code",
   "execution_count": 3,
   "metadata": {},
   "outputs": [],
   "source": [
    "def contains_annex_1(name):\n",
    "    for s in [\"Annex I\", \"Annex 01\", \"Annex 1\", \"ANNEX I\"]:\n",
    "        res = name.find(s)\n",
    "\n",
    "        if res != -1:\n",
    "            next_char = name[res + len(s)]\n",
    "            if next_char in [' ', '_', '-'] and \"Appendix\" not in name:\n",
    "                return True\n",
    "    return False"
   ]
  },
  {
   "cell_type": "code",
   "execution_count": 4,
   "metadata": {},
   "outputs": [],
   "source": [
    "def contains_annex_2(name):\n",
    "    for s in [\"Annex II\", \"Annex 02\", \"Annex 2\", \"ANNEX II\"]:\n",
    "        res = name.find(s)\n",
    "\n",
    "        if res != -1:\n",
    "            next_char = name[res + len(s)]\n",
    "            if next_char in [' ', '_', '-'] and \"Appendix\" not in name:\n",
    "                return True\n",
    "    return False"
   ]
  },
  {
   "cell_type": "code",
   "execution_count": 132,
   "metadata": {},
   "outputs": [
    {
     "data": {
      "text/plain": [
       "True"
      ]
     },
     "execution_count": 132,
     "metadata": {},
     "output_type": "execute_result"
    }
   ],
   "source": [
    "contains_annex_1(\"EN-Annex I Tender specifications.pdf\")"
   ]
  },
  {
   "cell_type": "code",
   "execution_count": 10,
   "metadata": {
    "scrolled": false
   },
   "outputs": [
    {
     "name": "stdout",
     "output_type": "stream",
     "text": [
      "Multiple annex 2 found in 7863.zip!\n",
      "Multiple annex 1 found in 7191.zip!\n",
      "Multiple annex 2 found in 6954.zip!\n",
      "Multiple annex 2 found in 6428.zip!\n",
      "Multiple annex 2 found in 4030.zip!\n",
      "Multiple annex 2 found in 3751.zip!\n",
      "No Annex 2 or Annex 1 found in 3294.zip!\n",
      "Multiple annex 2 found in 3058.zip!\n",
      "Multiple annex 1 found in 3058.zip!\n",
      "Multiple annex 2 found in 3034.zip!\n",
      "Multiple annex 1 found in 3034.zip!\n",
      "Multiple annex 2 found in 2947.zip!\n",
      "Multiple annex 1 found in 2947.zip!\n",
      "Multiple annex 1 found in 2662.zip!\n",
      "Multiple annex 2 found in 2570.zip!\n",
      "No Annex 2 or Annex 1 found in 1775.zip!\n",
      "Multiple annex 2 found in 1556.zip!\n",
      "Multiple annex 2 found in 1415.zip!\n",
      "Multiple annex 1 found in 1347.zip!\n",
      "Multiple annex 1 found in 2799.zip!\n",
      "126 pdf's extracted\n",
      "TODO: Check for both Annex 2 and 1 before reporting missing document.\n"
     ]
    }
   ],
   "source": [
    "counter = 0\n",
    "for i, cftId in enumerate(cftIds):\n",
    "    with ZipFile(DATA_PATH + \"/ZIP/\" + cftId + \".zip\", \"r\") as f:\n",
    "        namelist = f.namelist()\n",
    "        \n",
    "        found_names_A1 = []\n",
    "        found_names_A2 = []\n",
    "        for name in namelist:\n",
    "            if \"Replaced versions\" in name:\n",
    "                # subfolder containing oder versions, ignore\n",
    "                continue\n",
    "            \n",
    "            if contains_annex_2(name) and name[-3:] == \"pdf\":\n",
    "                found_names_A2.append(name)\n",
    "            elif contains_annex_1(name) and name[-3:] == \"pdf\":\n",
    "                found_names_A1.append(name)\n",
    "                \n",
    "        if len(found_names_A1 + found_names_A2) > 0:\n",
    "            # if there are multiple docs, choose whichever was found first\n",
    "            name = (found_names_A2 + found_names_A1)[0]\n",
    "            \n",
    "            # extract and rename relevant pdfs\n",
    "            f.extract(name, path=DATA_PATH + \"/PDF/\")\n",
    "            os.rename(DATA_PATH + \"/PDF/\" + name, DATA_PATH + \"/PDF/\" + cftId + \" - \" + name)\n",
    "            counter += 1\n",
    "        \n",
    "        if len(found_names_A1 + found_names_A2) == 0: print(f\"No Annex 2 or Annex 1 found in {cftId}.zip!\")\n",
    "        if len(found_names_A2) > 1: print(f\"Multiple annex 2 found in {cftId}.zip!\")\n",
    "        if len(found_names_A1) > 1: print(f\"Multiple annex 1 found in {cftId}.zip!\")\n",
    "print(f\"{counter} pdf's extracted\")\n",
    "\n",
    "print(\"TODO: Check for both Annex 2 and 1 before reporting missing document.\")"
   ]
  },
  {
   "cell_type": "markdown",
   "metadata": {},
   "source": [
    "# Extracting text"
   ]
  },
  {
   "cell_type": "code",
   "execution_count": 96,
   "metadata": {},
   "outputs": [
    {
     "data": {
      "text/plain": [
       "'2945 - EN-Annex I - Tender Specifications.pdf'"
      ]
     },
     "execution_count": 96,
     "metadata": {},
     "output_type": "execute_result"
    }
   ],
   "source": [
    "random.choice(os.listdir(DATA_PATH + '/PDF/'))"
   ]
  },
  {
   "cell_type": "code",
   "execution_count": 102,
   "metadata": {
    "scrolled": true
   },
   "outputs": [
    {
     "data": {
      "application/vnd.jupyter.widget-view+json": {
       "model_id": "b0e143fe4a6e4bacbef6c8520f03028b",
       "version_major": 2,
       "version_minor": 0
      },
      "text/plain": [
       "  0%|          | 0/125 [00:00<?, ?it/s]"
      ]
     },
     "metadata": {},
     "output_type": "display_data"
    }
   ],
   "source": [
    "# pdf_filename = random.choice(os.listdir(DATA_PATH + '/PDF/'))\n",
    "for pdf_filename in tqdm(os.listdir(DATA_PATH + '/PDF/')):\n",
    "    pdf_path = DATA_PATH + '/PDF/' + pdf_filename\n",
    "    full_text = pdfminer.high_level.extract_text(pdf_path)\n",
    "\n",
    "    p2_1_1_onwards = full_text[full_text.find(\"II.1.1\"):]\n",
    "\n",
    "    if p2_1_1_onwards != -1:\n",
    "    #     print(p2_1_1_onwards)\n",
    "        pass\n",
    "    else:\n",
    "        print(f\"Subject of tender not found in {pdf_filename}\")"
   ]
  },
  {
   "cell_type": "code",
   "execution_count": 39,
   "metadata": {},
   "outputs": [],
   "source": [
    "import re\n",
    "pdf_filename = \"5360 - EN-Annex II - Terms of Reference OP308.pdf\"\n",
    "pdf_path = DATA_PATH + '/PDF/' + pdf_filename\n",
    "full_text = pdfminer.high_level.extract_text(pdf_path)"
   ]
  },
  {
   "cell_type": "code",
   "execution_count": 47,
   "metadata": {
    "scrolled": false
   },
   "outputs": [
    {
     "data": {
      "text/plain": [
       "[<_sre.SRE_Match object; span=(807, 834), match='4.  Specific Requirements \\n'>,\n",
       " <_sre.SRE_Match object; span=(10942, 10972), match='4. \\n\\nSpecific Requirements  \\n\\n'>]"
      ]
     },
     "execution_count": 47,
     "metadata": {},
     "output_type": "execute_result"
    }
   ],
   "source": [
    "regex = \"\\d\\.?\\s+?[WORD]\\s+\\n\".replace(\"[WORD]\", \"Specific Requirements\")\n",
    "matches = list(re.finditer(regex, full_text))\n",
    "matches"
   ]
  },
  {
   "cell_type": "code",
   "execution_count": 31,
   "metadata": {},
   "outputs": [
    {
     "data": {
      "text/plain": [
       "' \\n\\n \\n\\n \\n\\n \\n\\nAnnex II to the Invitation to Tender \\n\\n \\n\\nFrontex/OP/720/2018/RS \\n\\nTerms of Reference \\nDesign, Transition & Operation  \\n\\nProvision  of  Nautical  Charts  Web  Map  Service \\n\\n \\n\\nFrontex - European Border and Coast Guard Agency \\n\\nwww.frontex.europa.eu | Pl. Europejski 6, 00-844 Warsaw, Poland | Tel. +48 22 205 95 00 | Fax +48 22 205 95 01 \\n\\n\\x0c1. \\n\\nBackground Information \\n\\n1.1.  Situation Monitoring and supporting IT systems \\n\\nOne of Frontex’ principle tasks is situation monitoring. For that purpose Frontex uses a set of IT systems \\nthat allow to compile and maintain the situational picture. These systems are built on the Microsoft and \\nESRI technology stack and their main applications are based on the ESRI Silverlight API and JavaScript. These \\nsystems are used within the EU Member States (MS) and Schengen Associate Countries (SAC) border guard \\ncommunity.   \\n \\n\\n1.2. \\n\\nScope \\n\\nThe envisaged solution is an externally hosted nautical chart  OGC compliant  web map and web map tile \\nservice  (WMS/WMTS)  that  can  be  integrated  into  Frontex  applications  allowing  to  display  maritime \\ninformation on their natural background. The web map service shall be based on an official ENC. \\n\\nThe service provided shall include the regular updates.  \\n\\nThe required map service is for planning purposes only and will not be used for navigational purposes.  \\n\\nWithin the scope of this procurement are the design and build of the service, the provision of the externally \\nhosted service and quarterly updates from the day the service is in operation.   \\n\\n1.3. \\n\\nOut of scope \\n\\nOut of scope of this procurement are:  \\n\\n\\uf0b7 \\n\\nThe provision of Electronic Nautical Charts (ENC); \\n\\nNo ENC vector dataset shall be directly provided to Frontex, neither Frontex will provide ENCs \\ndatasets for web map services or updates. Frontex will only consume web map services  as \\ndescribed and built on data derived from an official ENC. The tenderer shall make its ENCs \\navailable via WMS/WMTS and shall integrate all updates into these services. \\n\\n\\uf0b7 \\n\\uf0b7 \\n\\uf0b7 \\n\\nThe provision of hardware; \\nThe provision of software; 1 \\nThe provision of paper charts.  \\n\\n2. \\n\\nRequired Tasks/Services \\n\\n2.1.  Required tasks and services \\n\\nBuild and delivery of the web map services;  \\n\\n\\uf0b7 \\n\\uf0b7  Maintenance & updates of the charts and the services; \\n\\uf0b7 \\n\\uf0b7 \\n\\nProvision of supporting documentation. \\nProvision of usage statistics \\n\\n                                                      \\n\\n1 The hardware or software required to provide the services shall not be hosted by Frontex. \\n\\nFrontex - European Border and Coast Guard Agency \\n\\nwww.frontex.europa.eu | Pl. Europejski 6, 00-844 Warsaw, Poland | Tel. +48 22 205 95 00 | Fax +48 22 205 95 01 \\n\\n \\n\\n \\n\\n\\x0c \\n \\n\\n   \\n\\n2.2. \\n\\nService availability \\n\\nThe service has to be available for at least 98%. \\n\\nAvailability % \\n\\nDowntime / year (365 days) \\n\\nDowntime / month (30 days) \\n\\nDowntime / week \\n\\n98% \\n\\n7.30 days \\n\\n14.4 hours \\n\\n3.36 hours \\n\\nThe tenderer must ensure appropriate support and provide access to 1st line support (Customer Service Desk) \\nto report service interruptions.  \\n\\nFollowing deliverables are to be provided by the contractor: \\n\\n3. \\n\\nDeliverables \\n\\n3.1.  Web map services \\n\\n3.1.1  Description \\n\\n\\uf0b7 \\n\\nCoverage: \\n\\nThe web map service shall have global coverage.  \\n\\nAll zoom levels shall be available for the area delimited by the following coordinates: 30°W \\n72°N,  45°E 25°N.  Outside  that  area,  at  least  Overview  and  General  Use  Bands  shall  be \\nprovided. \\n\\nThe tenderer shall propose a suitable source taking into consideration chapter 5.1 and provide \\na detailed explanation (i.e. fit for purpose, value for money) for the selection. \\n\\nAll features of the charts must be labelled in English.  \\n\\n\\uf0b7 \\n\\nSource: \\n\\n\\uf0b7 \\n\\nLanguage: \\n\\n\\uf0b7 \\n\\nFormat:  \\n\\nThe web map service shall be provided in OGC WMS 1.3.0 and OGC WMTS formats. Getmap \\nand getFeatureInfo operations shall be available. \\n\\nGetFeatureInfo operation shall return information about drawn ENC objects in the location of \\ncursor click. \\n\\nThe colours and symbols shall be according to the IHO S-52 standard.   \\n\\nThe  web  map  shall  be  available  in  WGS  1984  Web  Mercator  Auxiliary  Sphere  projection \\n(EPSG:3857) and WGS 1984 (EPSG:4326). \\n\\nBest available scales shall be mapped to the de facto ArcGIS online/BING maps/Google map \\nstandard zooms as described below. Features visualized shall depend on selected scale. \\n\\n\\uf0b7 \\n\\nColours & Symbols: \\n\\n\\uf0b7 \\n\\nProjection:  \\n\\n\\uf0b7 \\n\\nZoom levels & Scales: \\n\\n \\n\\n \\n\\nFrontex - European Border and Coast Guard Agency \\n\\nwww.frontex.europa.eu | Pl. Europejski 6, 00-844 Warsaw, Poland | Tel. +48 22 205 95 00 | Fax +48 22 205 95 01 \\n\\n\\x0c20 : 1128.497220 \\n\\n19 : 2256.994440 \\n\\n18 : 4513.988880 \\n\\n17 : 9027.977761 \\n\\n16 : 18055.955520 \\n\\n15 : 36111.911040 \\n\\n14 : 72223.822090 \\n\\n13 : 144447.644200 \\n\\n12 : 288895.288400 \\n\\n11 : 577790.576700 \\n\\n10 : 1155581.153000 \\n\\n9  : 2311162.307000 \\n\\n8  : 4622324.614000 \\n\\n7  : 9244649.227000 \\n\\n6  : 18489298.450000 \\n\\n5  : 36978596.910000 \\n\\n4  : 73957193.820000 \\n\\n3  : 147914387.600000 \\n\\n2  : 295828775.300000 \\n\\n1  : 591657550.500000 \\n\\nMinimum security measures applied to prevent unauthorised access are:  \\n\\n\\uf0b7 \\n\\nSecurity:  \\n\\n\\uf02d \\n\\uf02d \\n\\nTLS (latest version) \\nIP Filtering  \\n\\n\\uf0b7  Number of users:  \\n\\n\\uf0b7  Masking:  \\n\\n \\n\\n\\uf0b7 \\n\\uf0b7 \\n \\n\\n\\uf02d \\n\\nThe web service shall support approximately 100 concurrent users.  \\n\\nSome specific features shall be hidden upon request.  \\n\\n\\uf02d \\n\\uf02d  Masks defined shall be applied to dynamic and tiled services. \\n\\n3.1.2  Deliverable quality criteria \\n\\nThe graphical presentation is readable and features are visible on most suitable scale levels, \\nThere is no duplication of ENC objects. \\n\\nFrontex - European Border and Coast Guard Agency \\n\\nwww.frontex.europa.eu | Pl. Europejski 6, 00-844 Warsaw, Poland | Tel. +48 22 205 95 00 | Fax +48 22 205 95 01 \\n\\n\\x0c3.1.3  Deliverable acceptance criteria \\n\\n\\uf0b7 \\n\\uf0b7 \\n\\uf0b7 \\n\\n\\uf0b7 \\n\\n\\uf0b7 \\n\\n\\uf0b7 \\n\\nThe web map service has passed user acceptance tests against the criteria established above, \\nThe web map service can be integrated and visualised in Frontex applications, \\nThe web map service is delivered according to the high level schedule defined under chapter \\n4.1,  \\nThe web map service is delivered according to the requested service availability as required \\nunder chapter 2.2, \\nAccess to 1st line support (helpdesk) and 2nd line support is provided as required under chapter \\n2.2, \\nThe declaration on compliancy with licenses and IPR as required under chapter 5.1 is signed. \\n\\nThe deliverable is formally accepted by Frontex and the Task / Deliverable Acceptance Form under Appendix \\n2 is signed by the Frontex Project Manager. \\n\\n3.2. \\n\\nChart updates \\n\\n3.2.1  Description  \\n\\nQuarterly updates shall be provided according to Notice to Mariners. These updates shall by applied directly \\nto WMS/WMTS service. Updates shall be performed outside Frontex duty hours (08:00 – 20:00 CET) and the \\nmaintenance  window  notification  shall  be  submitted  to  Frontex  at  least  two  working  days2  before  the \\nupdate.  \\n\\n3.2.2  Deliverable acceptance criteria \\n\\n\\uf0b7  Updates are provided quarterly, \\n\\uf0b7  Maintenance  windows  are  established  only  during  the  indicated  timeframes  and  within  the \\n\\nnotification period, \\n\\n\\uf0b7  Updates are comprehensive and reflect Notice to Mariners issued during the update period. \\n\\nThe deliverable is formally accepted by Frontex and the Task / Deliverable Acceptance Form under Appendix \\n2 is signed by the Frontex Project Manager. \\n\\nThe tenderer shall provide a schedule for the implementation and a document with a detailed description \\nof the service called “Service Description Document” (SDD). The SDD shall at least contain the following \\ninformation: \\n\\n3.3. \\n\\n Documentation \\n\\n3.3.1  Description \\n\\n\\uf0b7 \\n\\uf0b7 \\n\\uf0b7 \\n\\uf0b7 \\n\\uf0b7 \\n\\uf0b7 \\n\\uf0b7 \\n\\nScope statement \\nDefinitions \\nRisks  \\nSource description \\nSymbology  \\nTechnical description  \\nLicense information \\n\\n                                                      \\n\\n2 From Mondays to Fridays inclusive, excluding Frontex holidays. Frontex holidays usually cover Easter Break, 1-3 May, 9 \\nMay, Corpus Christi in June, Assumption Day in August 1 and 11 of November, last week of December and 1 day of January. \\nDetailed list will be provided to the Contractor at the end of each calendar year. \\n\\nFrontex - European Border and Coast Guard Agency \\n\\nwww.frontex.europa.eu | Pl. Europejski 6, 00-844 Warsaw, Poland | Tel. +48 22 205 95 00 | Fax +48 22 205 95 01 \\n\\n\\x0cThe  schedule  shall  be  provided  in  MS  Project  2013  format  and  describe  the  different  activities  and \\nmilestones.  \\n\\n3.3.2  Deliverable quality criteria \\n\\nThe document is clearly structured, i.e. it is organised into chapters, sections, subsections etc. \\nin a clear way, \\nThe  document  is  compliant  with  standards  and  a  writing  style  that  support  a  consistent \\nstructure \\nThe  document  is  consistent  and  coherent,  i.e.  ensuring  mutual  accordance  of  all  types  of \\ninformation inside a document and lack of logical contradictions of information between the \\nsubmitted documents or between parts of the same document, \\nTechnical descriptions shall apply UML 2 whenever applicable.  \\n\\n3.3.3  Deliverable acceptance criteria \\n\\nThe documents are completed as required above, \\nThe documents are delivered within the period established by the high level schedule defined \\nunder chapter 4.1.   \\n\\nThe deliverable is formally accepted by Frontex and the Task / Deliverable Acceptance Form under Appendix \\n2 is signed by the Frontex Project Manager.  \\n\\n3.4. \\n\\nProvision of statistics of usage \\n\\n3.4.1  Description  \\n\\n\\uf0b7  Hits per service \\n\\nThe tenderer shall provide monthly statistics of the usage of the service. The report shall at least contain \\nthe following information: \\n\\nThe reports shall be provided at the beginning of the month for the previous month. \\n\\n3.4.2  Deliverable quality criteria \\n\\nReport delivered in the first 7 days of the month. \\nReport delivered with a tabular format. \\n\\n3.4.3  Deliverable acceptance criteria \\n\\nThe reports are completed as required above, \\nThe reports are delivered within the period established.   \\n\\nThe deliverable is formally accepted by Frontex and the Task / Deliverable Acceptance Form under Appendix \\n2 is signed by the Frontex Project Manager.  \\n\\n\\uf0b7 \\n\\n\\uf0b7 \\n\\n\\uf0b7 \\n\\n\\uf0b7 \\n\\n\\uf0b7 \\n\\uf0b7 \\n\\n\\uf0b7 \\n\\uf0b7 \\n \\n\\n\\uf0b7 \\n\\uf0b7 \\n\\n \\n\\n \\n\\n \\n\\n  \\n\\n4. \\n\\nSchedule  \\n\\n4.1. \\n\\nSchedule \\n\\nThe following high level schedule is foreseen:  \\n\\nFrontex - European Border and Coast Guard Agency \\n\\nwww.frontex.europa.eu | Pl. Europejski 6, 00-844 Warsaw, Poland | Tel. +48 22 205 95 00 | Fax +48 22 205 95 01 \\n\\n\\x0cMilestone \\n\\nDescription \\n\\nStart \\n\\nEnd \\n\\nP0 \\n\\nP1 \\n\\nP2 \\n\\nP3 \\n\\nContract signature \\n\\nKick-off  (at  Frontex  or  via  video \\nconference)  \\n\\nService  Design  Phase  (design  and \\nbuild of service, drafting of Service \\nDescription Document)  \\n\\nService  Transition  Phase \\n(user \\nacceptance  testing,  improving  of \\nservice, delivery of documentation) \\n\\n0wd \\n\\nP0 + 5wd \\n\\nP1 + 15wd \\n\\nP2 + 10wd \\n\\nP4 \\n\\nService Operation Phase \\n\\nP3 \\n\\nEnd of contract \\n\\n4.2. \\n\\nPayments \\n\\nAll prices shall be expressed in EURO and exclude VAT. \\n\\nThe payments shall be executed as follows: \\n\\n\\uf0b7  Web  Map  Service  (#  3.1)  shall  be  paid  after  the  delivery  &  acceptance  by  Frontex  upon \\n\\n\\uf0b7 \\n\\npresentation of the invoice by the contractor; \\nChart  updates  (#  3.2)  shall  be  paid  on  quarterly  basis,  after  the  delivery  &  acceptance  by \\nFrontex, upon presentation of the invoice by the contractor. \\n \\n\\n5. \\n\\nProposals \\n\\n5.1. \\n\\nLicenses and intellectual property rights (IPR) \\n\\nProposals must be compliant with the web map source licensing policy and shall not violate any copyright \\nor IPR. In the technical proposal, the tenderer has to acknowledge the compliancy with any licensing party \\nby signing the declaration form attached in Annex VIII.  \\n\\nDuring the implementation of the project, ENCs shall be supplied by an official ENC distributor. \\n\\n5.2. \\n\\nOther information \\n\\nAll the information delivered to the Contractor in this document, its annexes and other referred documents \\nshall be taken into consideration by the Contractor in his offer and during the contract runtime. \\n\\n \\n\\n \\n\\n \\n\\n \\n\\nFrontex - European Border and Coast Guard Agency \\n\\nwww.frontex.europa.eu | Pl. Europejski 6, 00-844 Warsaw, Poland | Tel. +48 22 205 95 00 | Fax +48 22 205 95 01 \\n\\n\\x0c6. \\n\\nAppendices \\n\\nThe following appendices are included: \\n\\nAPPENDIX 1 List of acronyms  \\n\\nAPPENDIX 2 Model of Task / Deliverable Acceptance Form \\n\\nAPPENDIX 1  \\n\\nACRONYM \\n\\nEXPLANATION \\n\\nMember States (of the European Union) \\n\\nSchengen Associate Countries  \\n\\nElectronic Nautical Charts  \\n\\nOpen Geospatial Consortium \\n\\nWeb Map Service \\n\\nWeb Map Tile Service \\n\\nInternational Hydrographic Organisation  \\n\\nEuropean Petroleum Survey Group  \\n\\nWorld Geodetic System \\n\\nIntellectual Property Rights \\n\\nCentral European Time \\n\\n(Frontex) Working Days \\n\\n Unified Modelling Language  \\n\\nService Description Document  \\n\\n \\n\\n \\n\\n \\n\\n \\n\\n \\n\\n \\n\\nMS \\n\\nSAC \\n\\nENC  \\n\\nOGC \\n\\nWMS \\n\\nWMTS \\n\\nIHO \\n\\nEPSG \\n\\nWGS  \\n\\nIPR \\n\\nCET  \\n\\nWD  \\n\\nUML \\n\\nSDD \\n\\nFrontex - European Border and Coast Guard Agency \\n\\nwww.frontex.europa.eu | Pl. Europejski 6, 00-844 Warsaw, Poland | Tel. +48 22 205 95 00 | Fax +48 22 205 95 01 \\n\\n\\x0cAPPENDIX 2 \\n\\n \\n\\nModel of Task / Deliverable Acceptance Form \\n\\nFOR CONTRACT No ……… \\n\\nOriginal document - duly signed - to be attached to the invoice \\n\\nTASK / DELIVERABLE DESCRIPTION \\n\\nPlease give reference to the Terms of Reference and short description of the task or  \\ndeliverable. \\n\\nPlease describe observations and reservations if any. \\n\\nIn case of Task/Deliverable rejection please detail reasons. \\n\\nTASK / DELIVERABLE is ACCEPTED / REJECTED \\n\\nTo be filled in by Frontex: \\n\\nOfficial responsible for acceptance \\n\\n(in block capitals): \\n\\nDate and signature \\n\\nOfficial responsible for final validation \\n\\n(in block capitals): \\n\\nDate and signature \\n\\n \\n\\n \\n\\n \\n\\n \\n\\n \\n\\n \\n\\n \\n\\n \\n\\n \\n\\n \\n\\n \\n\\n \\n\\n \\n\\n \\n\\nFrontex - European Border and Coast Guard Agency \\n\\nwww.frontex.europa.eu | Pl. Europejski 6, 00-844 Warsaw, Poland | Tel. +48 22 205 95 00 | Fax +48 22 205 95 01 \\n\\n\\x0c'"
      ]
     },
     "execution_count": 31,
     "metadata": {},
     "output_type": "execute_result"
    }
   ],
   "source": [
    "full_text"
   ]
  },
  {
   "cell_type": "code",
   "execution_count": 46,
   "metadata": {
    "scrolled": true
   },
   "outputs": [
    {
     "name": "stdout",
     "output_type": "stream",
     "text": [
      "Match:  'Specific Requirements  \\n\\n'\n",
      "================================================================================\n",
      "Context:\n",
      "reactive services \n",
      "\n",
      "Annex II – Terms of Reference\n",
      "\n",
      "to Data Centre equipment and systems   \n",
      "\n",
      " \n",
      "\n",
      "4. \n",
      "\n",
      "Specific Requirements  \n",
      "\n",
      "This section describes the maintenance and support services to be delivered to Frontex and defines t\n"
     ]
    }
   ],
   "source": [
    "match = matches[1]\n",
    "print(\"Match: \", repr(match.group()))\n",
    "print(\"=\"*80)\n",
    "print(\"Context:\")\n",
    "window_size = 100\n",
    "print(full_text[match.span()[0]-window_size:match.span()[1]+window_size])"
   ]
  },
  {
   "cell_type": "code",
   "execution_count": 144,
   "metadata": {},
   "outputs": [],
   "source": [
    "pdf_filename = \"1456 - EN-Annex II TOR-FWC-SPServices2016-19.pdf\"\n",
    "pdf_path = DATA_PATH + '/PDF/' + pdf_filename\n",
    "\n",
    "# extract the full text string\n",
    "full_text = pdfminer.high_level.extract_text(pdf_path)\n",
    "\n",
    "# convert pdf to html using pdfminer\n",
    "output_string = StringIO()\n",
    "with open(pdf_path, 'rb') as fin:\n",
    "    # get number of pages in pdf\n",
    "    pdf = ppdf2.PdfFileReader(fin)\n",
    "    n_pages = pdf.getNumPages()\n",
    "    \n",
    "    # convert everything but the coverpage to html\n",
    "    pdfminer.high_level.extract_text_to_fp(fin,\n",
    "                                           output_string,\n",
    "                                           laparams=LAParams(),\n",
    "                                           output_type='html',\n",
    "                                           codec=None,\n",
    "                                           page_numbers=list(range(1, n_pages)))\n",
    "    \n",
    "    # read html using beautifulsoup\n",
    "    output_string.seek(0)\n",
    "    soup = BeautifulSoup(output_string.read(), 'html.parser')"
   ]
  },
  {
   "cell_type": "code",
   "execution_count": 129,
   "metadata": {},
   "outputs": [],
   "source": [
    "with open(DATA_PATH + \"/test.html\", \"w\", encoding='utf-8') as f:\n",
    "    f.write(str(soup))"
   ]
  },
  {
   "cell_type": "code",
   "execution_count": 124,
   "metadata": {
    "scrolled": false
   },
   "outputs": [
    {
     "name": "stdout",
     "output_type": "stream",
     "text": [
      "Terms and Definitions\n",
      "Scope\n",
      "General Requirements\n",
      "Specific Requirements\n",
      "Objectives\n",
      "Background\n",
      "Stakeholders\n",
      "Context\n",
      "Implementation of FWC\n",
      "The tender\n",
      "Evaluation\n",
      "Appendices\n"
     ]
    }
   ],
   "source": [
    "def isNotNumbering(string):\n",
    "    return len(\"\".join([c for c in text if not c.isdigit() and c != \".\"])) != 0\n",
    "\n",
    "# find all section headers\n",
    "sections = []\n",
    "for tag in soup.find_all('span'):\n",
    "    styles = tag.attrs['style'].split(\";\")\n",
    "    for style in styles:\n",
    "        if \"font-size\" in style.strip():\n",
    "            font_size = int(style.split(\":\")[1].split(\"px\")[0])\n",
    "            text = tag.getText().strip()\n",
    "            if font_size >= 14 and len(text) != 0 and isNotNumbering(text):\n",
    "                if text not in sections: sections.append(text)\n",
    "                    \n",
    "for s in sections:\n",
    "    print(s)"
   ]
  },
  {
   "cell_type": "code",
   "execution_count": 154,
   "metadata": {},
   "outputs": [
    {
     "name": "stdout",
     "output_type": "stream",
     "text": [
      "Match:  '8 \\n\\nScope \\n'\n",
      "================================================================================\n",
      "Context:\n",
      "coming from 3rd parties. \n",
      "\n",
      "Ref. FRONTEX/OP/131/2016/AH \n",
      "\n",
      "30/57 \n",
      "\n",
      "TOR \n",
      "\n",
      " \n",
      "\n",
      " \n",
      "\n",
      "\f",
      "FWC \n",
      "\n",
      " \n",
      "\n",
      " \n",
      "\n",
      " \n",
      "\n",
      " \n",
      "\n",
      " \n",
      "\n",
      "78 \n",
      "\n",
      "Scope \n",
      "\n",
      "3rd Level Support shall be provided for all software components including server and client \n",
      "softwa\n"
     ]
    }
   ],
   "source": [
    "match = match_dict[\"Scope\"][2]\n",
    "print(\"Match: \", repr(match.group()))\n",
    "print(\"=\"*80)\n",
    "print(\"Context:\")\n",
    "window_size = 100\n",
    "print(full_text[match.span()[0]-window_size:match.span()[1]+window_size])"
   ]
  },
  {
   "cell_type": "markdown",
   "metadata": {},
   "source": [
    "# ==========================================================="
   ]
  },
  {
   "cell_type": "code",
   "execution_count": 250,
   "metadata": {},
   "outputs": [],
   "source": [
    "# load the dictionary containing the section names of the documents\n",
    "with open(DATA_PATH + \"/JSON/section_names.json\", \"r\") as f:\n",
    "    section_names = json.load(f)"
   ]
  },
  {
   "cell_type": "code",
   "execution_count": 251,
   "metadata": {},
   "outputs": [
    {
     "name": "stdout",
     "output_type": "stream",
     "text": [
      "Documents with sections listed: 4.76%\n"
     ]
    }
   ],
   "source": [
    "print(f\"Documents with sections listed: {len(section_names['files']) / len(os.listdir(DATA_PATH + '/PDF'))*100:.2f}%\")"
   ]
  },
  {
   "cell_type": "code",
   "execution_count": 252,
   "metadata": {},
   "outputs": [],
   "source": [
    "# load the full text of a given tender document\n",
    "pdf_filename = \"1773 - EN-Annex II - Terms of Reference.pdf\"\n",
    "pdf_path = DATA_PATH + '/PDF/' + pdf_filename\n",
    "full_text = pdfminer.high_level.extract_text(pdf_path)"
   ]
  },
  {
   "cell_type": "code",
   "execution_count": 256,
   "metadata": {},
   "outputs": [],
   "source": [
    "# find the section headers in the full text\n",
    "section_matches = []\n",
    "for section in section_names[\"files\"][pdf_filename]:\n",
    "    regex = \"(\\d|I|V)\\.?\\s+?[WORD]\\s+?\\n\".replace(\"[WORD]\", section)\n",
    "    matches = list(re.finditer(regex, full_text))\n",
    "    \n",
    "    if len(matches) == 0:\n",
    "        print(\"Cannot find any matches for: \", section, \" in \", pdf_filename)\n",
    "        continue\n",
    "    \n",
    "    if len(matches) > 1:\n",
    "        match = matches[1]\n",
    "    else:\n",
    "        match = matches[0]\n",
    "\n",
    "    section_matches.append((section, match))"
   ]
  },
  {
   "cell_type": "code",
   "execution_count": 248,
   "metadata": {},
   "outputs": [],
   "source": [
    "def get_content_from_section(section):\n",
    "    for i, (s, m) in enumerate(section_matches):\n",
    "        if s == section:\n",
    "            # starting index\n",
    "            current_index = m.span()[1]\n",
    "            \n",
    "            # ending index\n",
    "            if current_index != len(section_matches) - 1:\n",
    "                next_index = section_matches[i + 1][1].span()[0]\n",
    "            else:\n",
    "                # the section to find is the last section\n",
    "                next_index = len(full_text)\n",
    "            return full_text[current_index:next_index]\n",
    "    return None"
   ]
  },
  {
   "cell_type": "code",
   "execution_count": 258,
   "metadata": {
    "scrolled": true
   },
   "outputs": [
    {
     "name": "stdout",
     "output_type": "stream",
     "text": [
      "\n",
      "1. OBJECTIVES \n",
      "\n",
      "The objective of the contract is provision of conference services - organization, contracting and payment for the \n",
      "services related to the events organized by Frontex outside of Poland.  \n",
      " \n",
      "Events  in  Poland  are  covered  by  a  separate  service  contract  not  linked  with  this  call  for  tenders,  however,  if \n",
      "required, Frontex reserves the right to include Poland in the area of subject of the contract. \n",
      "\n",
      "2. DESCRIPTION OF THE TASKS  \n",
      "  \n",
      "The  specific  tasks  required  under  the  contract  are:  market  research,  obtaining  offers  from  potential  sub-\n",
      "contractors, negotiating best conditions of offers, preparation of comparison of offers, contracting of services and \n",
      "supplies  on  behalf  of  Frontex,  covering  of  payment  of  advances  for  the  services  and  final  payments  after  the \n",
      "events.  The  costs  covered  will  be  afterwards  reimbursed  by  Frontex  on  the  basis  of  an  invoice  issued  by  the \n",
      "contractor given that the costs are in line with the order issued by Frontex. \n",
      "\n",
      "The main services that shall be organized by the contractor are: \n",
      "reservation of meeting rooms and hotel accommodation,  organization of catering during the conferences as well \n",
      "as dinners in local restaurants, transport  arrangements, ensuring of  necessary technical equipment, provision of \n",
      "interpretation services, etc.  \n",
      " \n",
      "\n",
      "2.1 Contractor’s responsibilities  \n",
      "\n",
      "The Contractor shall provide high level professionalism and client-oriented approach to all services rendered for \n",
      "Frontex. The required contractor’s tasks are as follows:   \n",
      " \n",
      "\n",
      "Conducting  market  research  in  order  to  find  most  appropriate  service  providers  in  terms  of  price  in \n",
      "accordance with Frontex requirements indicated in the Request form for services (Annex 1); \n",
      "\n",
      " \n",
      "\n",
      "3 \n",
      "\n",
      "\f",
      "  Negotiating the best conditions of the offers obtained; \n",
      " \n",
      "\n",
      "After  written  confirmation  by  Frontex  in  form  of  a  specific  order,  making  logistic  arrangements  with  the \n",
      "selected hotel, venue and other service providers and suppliers, i.e. signing contracts and agreements with \n",
      "subcontractors;  \n",
      "\n",
      "  Making pre-payments and payments for arranged services;  \n",
      "  Making tentative or guarantee hotel room reservations for the conference/meeting participants according to \n",
      "\n",
      "the instructions received in the specific order; \n",
      "\n",
      " \n",
      "In  making  the  above  mentioned  arrangements  and  bookings  the  contractor  shall  make  every  effort  to  protect \n",
      "Frontex financial interest. In particular the contractor shall: \n",
      "\n",
      "a)  Negotiate for Frontex the best terms and prices, make use of the special discounts whenever possible; \n",
      "b)  Apply its own current agreements and discount prices with domestic and foreign hotels;  \n",
      "c)  Optimize the use of Frontex negotiated deals whenever possible;  \n",
      "d)  Propose any other steps to obtain best prices available and reduce costs;  \n",
      "e)  Make all efforts to minimize costs in case of last minute changes in the number of participants or their \n",
      "\n",
      "travel itinerary, cancellations, etc. \n",
      "\n",
      "2.2 Services covered by the contract \n",
      "\n",
      "The services required will be indicated in the Request form for services  (Annex 1) sent to the contractor before \n",
      "the planned event. The contractor shall arrange the services in line with the instructions received from Frontex.  \n",
      " \n",
      "Below is the indication of most required services to be organised under the contract. The below list is indicative \n",
      "as each event may require different type and number of services.  \n",
      " \n",
      "\n",
      "2.2.1 Conference venue/meeting rooms and technical equipment \n",
      "\n",
      "Standard conference package / conference room booking includes:  \n",
      "\n",
      "rental of a conference room;  \n",
      "\n",
      "a) \n",
      "b)  set  up  of  technical  equipment  such  as  PC/laptop  with  connection  to  internet,  multimedia  projector, \n",
      "\n",
      "screen, flipchart(s) and sound system whenever it is requested; \n",
      "\n",
      "c)  arrangement of appropriate space for catering services in proximity of the conference room; \n",
      "d) \n",
      "\n",
      "rental  of  additional  rooms  such  as  small  meeting  rooms,  business  centre  (printer,  xerocopy  machine), \n",
      "press room(s) whenever it is required. \n",
      "\n",
      " \n",
      "The  services  under  the  contract  relate  to  the  administrative  and  coordination  support  of  organisation  of \n",
      "conferences and events. The presence of Contractor's staff during the events will not be required. \n",
      "\n",
      "2.2.2 Accommodation \n",
      "\n",
      "The contractor will be responsible for the following tasks: \n",
      "\n",
      "a) \n",
      "\n",
      "b) \n",
      "\n",
      "identify suitable quality hotels (five, four or three stars, single/double rooms used as single ones/double \n",
      "rooms, including breakfast); \n",
      "the same quality and comfort of the hotel rooms and the same location (possibly) should be provided for \n",
      "all  guests  participating  in  an  event  and  as  many  rooms  as  possible  should  be  booked  in  a  minimum \n",
      "number of hotels (preferably in one hotel); \n",
      "\n",
      "c)  negotiation of best prices in accordance with the maximum hotel allowance ceilings for a given location \n",
      "\n",
      "according to Annex 2 (list of allowances outside of the EU will be provided after award of the contract); \n",
      "\n",
      "d)  negotiation of penalties and no-show-up policies as well as cancellation policies; \n",
      "e) \n",
      "\n",
      "tentative  or  guarantee  reservation  of  the  hotel  rooms  for  participants  of  the  meeting  as  well  Frontex \n",
      "staff, whenever it is requested. \n",
      "\n",
      " \n",
      "As a rule, Frontex requests only pre-booking of hotel rooms. The cost of the hotel accommodation is covered by \n",
      "guests individually and is not covered by contractor. Therefore, the final date for bookings is established and the \n",
      "rooms must be kept until the agreed deadline.  \n",
      " \n",
      "However, if specifically required by Frontex the payment for hotel accommodation will be included in the costs of \n",
      "the event.  \n",
      " \n",
      "\n",
      "4 \n",
      "\n",
      " \n",
      "\n",
      " \n",
      "\n",
      "\f",
      "2.2.3 Catering services \n",
      "\n",
      "Number and kind of catering services relates to the number of participants of the meeting and the character of \n",
      "the  meeting.  Detail  requirements  will  always  be  indicated  on  the  request  form  for  services.  Usually,  catering \n",
      "services  are  coffee  breaks,  lunches,  lunch  boxes  (to  be  taken  out  for)  and  dinners  offered  by  hotels  or  local \n",
      "restaurants. \n",
      " \n",
      "Regional specificities should be respected. \n",
      " \n",
      "\n",
      "2.2.4 Interpretation services \n",
      "\n",
      "The  contractor  will  be  responsible  for  selection  of  the  company  that  will  provide  high  quality  interpretation \n",
      "services adequate to Frontex requirements. Interpretation services will be requested on a case by case basis, all \n",
      "details  will  be  indicated  in  the  Request  form  for  services  issued  by  Frontex.  Both  simultaneous  cabin \n",
      "interpretation and/or consecutive interpretation services can be required.   \n",
      "\n",
      "2.2.5 Transport services \n",
      "Transportation services may be required from/to hotel and airport as well as the hotel and restaurant in case of \n",
      "an official dinner. \n",
      " \n",
      "Number  of  transport  means  and  its  kind  will  relate  to  the  size  and  location  of  the  meeting  venue,  restaurant, \n",
      "hotel and airport. Transport services are usually requested on a case by case basis.   \n",
      "\n",
      "2.2.6 Other services \n",
      " \n",
      "Beside the above-mentioned services contractor can be asked to arrange other services related to the events e,g \n",
      "security. \n",
      " \n",
      "In  the  case  of  cancellation  of  an  order  at  a  short  notice,  the  contractor  shall  make  all  efforts  to  minimize  the \n",
      "costs born by Frontex.  \n",
      " \n",
      "\n",
      "In  case  of  cancellation,  Frontex  will  cover  penalties  incurred  by  the  contractor  for  each  specific  service.  The \n",
      "contractor must be able to supply the documents confirming the penalty amounts for each service separately. \n",
      "\n",
      "\n"
     ]
    }
   ],
   "source": [
    "print(get_content_from_section(\"TECHNICAL DESCRIPTION\"))"
   ]
  },
  {
   "cell_type": "code",
   "execution_count": null,
   "metadata": {},
   "outputs": [],
   "source": []
  }
 ],
 "metadata": {
  "kernelspec": {
   "display_name": "Python 3",
   "language": "python",
   "name": "python3"
  },
  "language_info": {
   "codemirror_mode": {
    "name": "ipython",
    "version": 3
   },
   "file_extension": ".py",
   "mimetype": "text/x-python",
   "name": "python",
   "nbconvert_exporter": "python",
   "pygments_lexer": "ipython3",
   "version": "3.6.5"
  }
 },
 "nbformat": 4,
 "nbformat_minor": 2
}
