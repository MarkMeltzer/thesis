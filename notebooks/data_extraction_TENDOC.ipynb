{
 "cells": [
  {
   "cell_type": "code",
   "execution_count": 19,
   "metadata": {},
   "outputs": [],
   "source": [
    "import PyPDF2 as ppdf2\n",
    "import PyPDF4 as ppdf4\n",
    "import pdfrw\n",
    "import pdfminer.high_level\n",
    "import requests\n",
    "from pprint import pprint\n",
    "from bs4 import BeautifulSoup\n",
    "from zipfile import ZipFile\n",
    "from tqdm.notebook import tqdm\n",
    "import os\n",
    "import random\n",
    "from pdfminer.layout import LAParams\n",
    "from io import StringIO\n",
    "import shutil\n",
    "import json\n",
    "import pandas as pd\n",
    "import re\n",
    "\n",
    "DATA_PATH = \"../data\""
   ]
  },
  {
   "cell_type": "markdown",
   "metadata": {},
   "source": [
    "# Retrieving the documents"
   ]
  },
  {
   "cell_type": "code",
   "execution_count": 3,
   "metadata": {},
   "outputs": [
    {
     "name": "stdout",
     "output_type": "stream",
     "text": [
      "128  cftIds found!\n"
     ]
    }
   ],
   "source": [
    "# scrape the etendering search result website for tender ids\n",
    "search_results_url = \"https://etendering.ted.europa.eu/cft/cft-search.html?_caList=1&_procedureTypeForthcoming=1&_procedureTypeOngoing=1&caList=67&closingDateFrom=&closingDateTo=&confirm=Search&procedureTypeForthcoming=&procedureTypeOngoing=&startDateFrom=&startDateTo=&status=&text=&maxResults=250\"\n",
    "res = requests.get(search_results_url)\n",
    "soup = BeautifulSoup(res.content, 'html.parser')\n",
    "\n",
    "table = soup.find(id=\"row\")\n",
    "tbody = table.find(\"tbody\")\n",
    "rows = tbody.find_all(\"tr\")\n",
    "\n",
    "cftIds = []\n",
    "for row in rows:\n",
    "    cftId = row.find_all(\"td\")[1].find(\"a\")[\"href\"].split(\"cftId\")[-1][1:]\n",
    "    cftIds.append(cftId)\n",
    "print(len(cftIds), \" cftIds found!\")"
   ]
  },
  {
   "cell_type": "code",
   "execution_count": 54,
   "metadata": {},
   "outputs": [
    {
     "data": {
      "application/vnd.jupyter.widget-view+json": {
       "model_id": "46d1f2ddbc854fb1aacb2d187e256da9",
       "version_major": 2,
       "version_minor": 0
      },
      "text/plain": [
       "  0%|          | 0/128 [00:00<?, ?it/s]"
      ]
     },
     "metadata": {},
     "output_type": "display_data"
    },
    {
     "name": "stdout",
     "output_type": "stream",
     "text": [
      "127  zips downloaded!\n"
     ]
    }
   ],
   "source": [
    "# get all the zip files containing tender documents\n",
    "base_zip_url = \"https://etendering.ted.europa.eu/document/archive-download.html?cftId=[CFTID]&lngIso=en\"\n",
    "\n",
    "for i, cftId in tqdm(enumerate(cftIds), total=len(cftIds)):\n",
    "    url = base_zip_url.replace(\"[CFTID]\", cftId)\n",
    "    \n",
    "    with open(DATA_PATH + \"/ZIP/\" + cftId + \".zip\", \"wb\") as f:\n",
    "        f.write(requests.get(url).content)\n",
    "        \n",
    "print(i, \" zips downloaded!\")"
   ]
  },
  {
   "cell_type": "code",
   "execution_count": 3,
   "metadata": {},
   "outputs": [],
   "source": [
    "def contains_annex_1(name):\n",
    "    for s in [\"Annex I\", \"Annex 01\", \"Annex 1\", \"ANNEX I\"]:\n",
    "        res = name.find(s)\n",
    "\n",
    "        if res != -1:\n",
    "            next_char = name[res + len(s)]\n",
    "            if next_char in [' ', '_', '-'] and \"Appendix\" not in name:\n",
    "                return True\n",
    "    return False"
   ]
  },
  {
   "cell_type": "code",
   "execution_count": 4,
   "metadata": {},
   "outputs": [],
   "source": [
    "def contains_annex_2(name):\n",
    "    for s in [\"Annex II\", \"Annex 02\", \"Annex 2\", \"ANNEX II\"]:\n",
    "        res = name.find(s)\n",
    "\n",
    "        if res != -1:\n",
    "            next_char = name[res + len(s)]\n",
    "            if next_char in [' ', '_', '-'] and \"Appendix\" not in name:\n",
    "                return True\n",
    "    return False"
   ]
  },
  {
   "cell_type": "code",
   "execution_count": 10,
   "metadata": {
    "scrolled": false
   },
   "outputs": [
    {
     "name": "stdout",
     "output_type": "stream",
     "text": [
      "Multiple annex 2 found in 7863.zip!\n",
      "Multiple annex 1 found in 7191.zip!\n",
      "Multiple annex 2 found in 6954.zip!\n",
      "Multiple annex 2 found in 6428.zip!\n",
      "Multiple annex 2 found in 4030.zip!\n",
      "Multiple annex 2 found in 3751.zip!\n",
      "No Annex 2 or Annex 1 found in 3294.zip!\n",
      "Multiple annex 2 found in 3058.zip!\n",
      "Multiple annex 1 found in 3058.zip!\n",
      "Multiple annex 2 found in 3034.zip!\n",
      "Multiple annex 1 found in 3034.zip!\n",
      "Multiple annex 2 found in 2947.zip!\n",
      "Multiple annex 1 found in 2947.zip!\n",
      "Multiple annex 1 found in 2662.zip!\n",
      "Multiple annex 2 found in 2570.zip!\n",
      "No Annex 2 or Annex 1 found in 1775.zip!\n",
      "Multiple annex 2 found in 1556.zip!\n",
      "Multiple annex 2 found in 1415.zip!\n",
      "Multiple annex 1 found in 1347.zip!\n",
      "Multiple annex 1 found in 2799.zip!\n",
      "126 pdf's extracted\n",
      "TODO: Check for both Annex 2 and 1 before reporting missing document.\n"
     ]
    }
   ],
   "source": [
    "counter = 0\n",
    "for i, cftId in enumerate(cftIds):\n",
    "    with ZipFile(DATA_PATH + \"/ZIP/\" + cftId + \".zip\", \"r\") as f:\n",
    "        namelist = f.namelist()\n",
    "        \n",
    "        found_names_A1 = []\n",
    "        found_names_A2 = []\n",
    "        for name in namelist:\n",
    "            if \"Replaced versions\" in name:\n",
    "                # subfolder containing oder versions, ignore\n",
    "                continue\n",
    "            \n",
    "            if contains_annex_2(name) and name[-3:] == \"pdf\":\n",
    "                found_names_A2.append(name)\n",
    "            elif contains_annex_1(name) and name[-3:] == \"pdf\":\n",
    "                found_names_A1.append(name)\n",
    "                \n",
    "        if len(found_names_A1 + found_names_A2) > 0:\n",
    "            # if there are multiple docs, choose whichever was found first\n",
    "            name = (found_names_A2 + found_names_A1)[0]\n",
    "            \n",
    "            # extract and rename relevant pdfs\n",
    "            f.extract(name, path=DATA_PATH + \"/PDF/\")\n",
    "            os.rename(DATA_PATH + \"/PDF/\" + name, DATA_PATH + \"/PDF/\" + cftId + \" - \" + name)\n",
    "            counter += 1\n",
    "        \n",
    "        if len(found_names_A1 + found_names_A2) == 0: print(f\"No Annex 2 or Annex 1 found in {cftId}.zip!\")\n",
    "        if len(found_names_A2) > 1: print(f\"Multiple annex 2 found in {cftId}.zip!\")\n",
    "        if len(found_names_A1) > 1: print(f\"Multiple annex 1 found in {cftId}.zip!\")\n",
    "print(f\"{counter} pdf's extracted\")"
   ]
  },
  {
   "cell_type": "markdown",
   "metadata": {},
   "source": [
    "# Extracting text"
   ]
  },
  {
   "cell_type": "code",
   "execution_count": 17,
   "metadata": {},
   "outputs": [],
   "source": [
    "def get_content_from_section(section, full_text, section_matches):\n",
    "    for i, (s, m) in enumerate(section_matches):\n",
    "        if s == section:\n",
    "            # starting index\n",
    "            current_index = m.span()[1]\n",
    "            \n",
    "            # ending index\n",
    "            if current_index != len(section_matches) - 1:\n",
    "                next_index = section_matches[i + 1][1].span()[0]\n",
    "            else:\n",
    "                # the section to find is the last section\n",
    "                next_index = len(full_text)\n",
    "            return full_text[current_index:next_index]\n",
    "    return None"
   ]
  },
  {
   "cell_type": "code",
   "execution_count": 60,
   "metadata": {},
   "outputs": [],
   "source": [
    "# load the dictionary containing the section names of the documents\n",
    "with open(DATA_PATH + \"/JSON/section_names.json\", \"r\") as f:\n",
    "    section_names = json.load(f)\n",
    "\n",
    "# skip because its not the right document\n",
    "skip = [\"2800 - EN-Annex II_declaration on honour_OP_529_2017_RS.pdf\", \"3095 - EN-Annex II MarInt Standard Reply Form_1187.pdf\",\n",
    "        \"7317 - EN-Annex II - Declaration on Honour - FSA I.pdf\",\n",
    "        \"7952 - EN-Annex II - Personnel requirements.pdf\"]\n",
    "# skip because they are scanned documents and can't easily be processed\n",
    "skip += [\"1811 - EN-Annex 1 - Tender Specifications.pdf\", \"2189 - EN-Annex II ToR part B and part A.pdf\"]"
   ]
  },
  {
   "cell_type": "code",
   "execution_count": 61,
   "metadata": {},
   "outputs": [
    {
     "name": "stdout",
     "output_type": "stream",
     "text": [
      "Documents with sections listed: 99.19%\n"
     ]
    }
   ],
   "source": [
    "print(f\"Documents with sections listed: {len(section_names['files']) / (len(os.listdir(DATA_PATH + '/PDF'))-2)*100:.2f}%\")"
   ]
  },
  {
   "cell_type": "code",
   "execution_count": 7,
   "metadata": {},
   "outputs": [
    {
     "data": {
      "application/vnd.jupyter.widget-view+json": {
       "model_id": "0f269878ca0b44f78c3ff5599e2b39b4",
       "version_major": 2,
       "version_minor": 0
      },
      "text/plain": [
       "  0%|          | 0/126 [00:00<?, ?it/s]"
      ]
     },
     "metadata": {},
     "output_type": "display_data"
    }
   ],
   "source": [
    "# create dataset, load in the full text of all tender documents\n",
    "data = pd.DataFrame(columns=[\n",
    "    \"filename\",\n",
    "    \"full_text\",\n",
    "    \"selected_sections\"\n",
    "])\n",
    "\n",
    "for pdf_filename in tqdm(os.listdir(DATA_PATH + \"/PDF\")):\n",
    "    if pdf_filename in skip:\n",
    "        continue\n",
    "    # load the full text of a given tender document\n",
    "    pdf_path = DATA_PATH + '/PDF/' + pdf_filename\n",
    "    full_text = pdfminer.high_level.extract_text(pdf_path)\n",
    "    \n",
    "    data = data.append({\n",
    "        \"filename\" : pdf_filename,\n",
    "        \"full_text\" : full_text,\n",
    "        \"selected_sections\" : None\n",
    "    }, ignore_index=True)"
   ]
  },
  {
   "cell_type": "code",
   "execution_count": 12,
   "metadata": {},
   "outputs": [],
   "source": [
    "data.to_pickle(DATA_PATH + \"/processed/dataset_TENDOC.pkl\")"
   ]
  },
  {
   "cell_type": "markdown",
   "metadata": {},
   "source": [
    "# Testing/indev:"
   ]
  },
  {
   "cell_type": "code",
   "execution_count": 62,
   "metadata": {},
   "outputs": [
    {
     "data": {
      "application/vnd.jupyter.widget-view+json": {
       "model_id": "d7ebffd181fd4f3ab70f4e555b0c6159",
       "version_major": 2,
       "version_minor": 0
      },
      "text/plain": [
       "  0%|          | 0/126 [00:00<?, ?it/s]"
      ]
     },
     "metadata": {},
     "output_type": "display_data"
    },
    {
     "name": "stdout",
     "output_type": "stream",
     "text": [
      "1 - Cannot find any matches for:  Legal form to be taken by the group of economic operators to whom the contract is to be awarded:  in  2323 - EN-Annex I - Additiona Information to Candidates_159.pdf\n",
      "2 - Cannot find any matches for:  Other particular conditions  in  2323 - EN-Annex I - Additiona Information to Candidates_159.pdf\n",
      "3 - Cannot find any matches for:  LIST OF ABBREVIATIONS  in  2958 - EN-Annex II_841_Terms of reference.pdf\n",
      "4 - Cannot find any matches for:  FRONTEXâ€™ STRATEGIC OBJECTIVES IN THE FIELD OF TRAINING AND EDUCATION OF BORDER GUARDS  in  2958 - EN-Annex II_841_Terms of reference.pdf\n",
      "5 - Cannot find any matches for:  FRONTEX TRAINING  in  2958 - EN-Annex II_841_Terms of reference.pdf\n",
      "6 - Cannot find any matches for:  REQUESTED SERVICES  in  2958 - EN-Annex II_841_Terms of reference.pdf\n",
      "7 - Cannot find any matches for:  Contractorâ€™s liability and additional information  in  2998 - EN-Annex II  Terms of reference.pdf\n",
      "8 - Cannot find any matches for:  Equipment to be supported with reactive and proactive services  in  3034 - EN-Annex II part A - ToR - List of equipment.pdf\n",
      "9 - Cannot find any matches for:  Contractorâ€™s liability and additional information  in  3414 - EN-Annex II  Terms of reference.pdf\n",
      "10 - Cannot find any matches for:  Description of services to be provided - mandatory requirements  in  4738 - EN-Annex II Terms of Reference.pdf\n",
      "11 - Cannot find any matches for:  Working arrangement of interim personnel including public holidays  in  5051 - EN-Annex II Terms of reference.pdf\n",
      "12 - Cannot find any matches for:  Temporary absence of the interim personnel and replacement procedures  in  5051 - EN-Annex II Terms of reference.pdf\n",
      "13 - Cannot find any matches for:  Minimal Technical requirements - Heart Beat Detectors (HBD)  in  5186 - EN-Annex II_Terms of Reference_OP_221_2019_RS.pdf\n",
      "14 - Cannot find any matches for:  Working arrangement of interim personnel including public holidays  in  5334 - EN-Annex II Terms of reference.pdf\n",
      "15 - Cannot find any matches for:  Temporary absence of the interim personnel and replacement procedures  in  5334 - EN-Annex II Terms of reference.pdf\n",
      "16 - Cannot find any matches for:  BACKGROUND  in  5628 - EN-Annex II - TOR.pdf\n",
      "17 - Cannot find any matches for:  DESCRIPTION OF THE ASSIGNMENT  in  5628 - EN-Annex II - TOR.pdf\n",
      "18 - Cannot find any matches for:  REQUESTED SERVICES  in  5628 - EN-Annex II - TOR.pdf\n",
      "19 - Cannot find any matches for:  DELIVERABLES/EXPECTED RESULTS:  in  5628 - EN-Annex II - TOR.pdf\n",
      "20 - Cannot find any matches for:  SERVICE REQUIREMENTS  in  5628 - EN-Annex II - TOR.pdf\n",
      "21 - Cannot find any matches for:  LOCATION AND DURATION  in  5628 - EN-Annex II - TOR.pdf\n",
      "22 - Cannot find any matches for:  DATA PROTECTION  in  5628 - EN-Annex II - TOR.pdf\n",
      "23 - Cannot find any matches for:  IMPLEMENTATION OF THE FWC  in  5628 - EN-Annex II - TOR.pdf\n",
      "24 - Cannot find any matches for:  ACCEPTANCE CRITERIA  in  5628 - EN-Annex II - TOR.pdf\n",
      "25 - Cannot find any matches for:  Contractorâ€™s staff  in  5841 - EN-Annex II Terms of reference.pdf\n",
      "26 - Cannot find any matches for:  Legal form to be taken by the group of economic operators to whom the contract is to be awarded:  in  5928 - EN-Annex I - Additiona Information to Candidates_final.pdf\n",
      "27 - Cannot find any matches for:  Other particular conditions  in  5928 - EN-Annex I - Additiona Information to Candidates_final.pdf\n",
      "28 - Cannot find any matches for:  Frontexâ€™ right to influence the course  in  6300 - EN-Annex II ToR_213.pdf\n",
      "29 - Cannot find any matches for:  Legal form to be taken by the group of economic operators to whom the contract is to be awarded:  in  7133 - EN-Annex I - Information to Candidates.pdf\n",
      "30 - Cannot find any matches for:  Other particular conditions  in  7133 - EN-Annex I - Information to Candidates.pdf\n",
      "31 - Cannot find any matches for:  Timeline  in  7133 - EN-Annex I - Information to Candidates.pdf\n",
      "32 - Cannot find any matches for:  LOT 1 - Compact 9x19 mm semi-automatic pistol, accessories and training  in  7863 - EN-Annex II_ToR and Technical Specifications 2020_0058 Service Weapons.pdf\n",
      "33 - Cannot find any matches for:  LOT 2 â€“ Ammunition  in  7863 - EN-Annex II_ToR and Technical Specifications 2020_0058 Service Weapons.pdf\n",
      "34 - Cannot find any matches for:  Contractorâ€™s personnel  in  7884 - EN-Annex II TOR.pdf\n",
      "35 - Cannot find any matches for:  Composition and responsibilities of healthcare professionals of the contractor  in  8275 - EN-Annex II Terms of Reference 2021_0143.pdf\n",
      "36 - Cannot find any matches for:  Appendix 1 â€“ Acceptance Form  in  8275 - EN-Annex II Terms of Reference 2021_0143.pdf\n"
     ]
    }
   ],
   "source": [
    "# for now, this is just checking if all sections can be found in \n",
    "n = 0\n",
    "for pdf_filename in tqdm(os.listdir(DATA_PATH + \"/PDF\")):\n",
    "    if pdf_filename in skip:\n",
    "        continue\n",
    "    # load the full text of a given tender document\n",
    "#     pdf_filename = \"1773 - EN-Annex II - Terms of Reference.pdf\"\n",
    "    pdf_path = DATA_PATH + '/PDF/' + pdf_filename\n",
    "#     full_text = pdfminer.high_level.extract_text(pdf_path)\n",
    "    full_text = data[data[\"filename\"] == pdf_filename][\"full_text\"].iloc[0]\n",
    "\n",
    "    # find the section headers in the full text\n",
    "    section_matches = []\n",
    "    for section in section_names[\"files\"][pdf_filename]:\n",
    "        regex = \"(\\d|I|V)\\.?\\s+?[WORD]\\s+?\\n\".replace(\"[WORD]\", re.escape(section))\n",
    "        matches = list(re.finditer(regex, full_text))\n",
    "\n",
    "        if len(matches) == 0:\n",
    "            n += 1\n",
    "            print(n, \"- Cannot find any matches for: \", section, \" in \", pdf_filename)\n",
    "            continue\n",
    "\n",
    "        if len(matches) > 1:\n",
    "            match = matches[1]\n",
    "        else:\n",
    "            match = matches[0]\n",
    "\n",
    "        section_matches.append((section, match))"
   ]
  },
  {
   "cell_type": "code",
   "execution_count": 351,
   "metadata": {},
   "outputs": [
    {
     "data": {
      "text/plain": [
       "[<_sre.SRE_Match object; span=(20255, 20279), match='1. \\n\\nCurrent Situation \\n'>]"
      ]
     },
     "execution_count": 351,
     "metadata": {},
     "output_type": "execute_result"
    }
   ],
   "source": [
    "pdf_path = DATA_PATH + '/PDF/' + \"1972 - EN-Annex II - ToR - eSignature-2_001.pdf\"\n",
    "full_text = pdfminer.high_level.extract_text(pdf_path)\n",
    "regex = \"(\\d|I|V)\\.?\\s+?[WORD]\\s+?\\n\".replace(\"[WORD]\", re.escape(\"Current Situation\"))\n",
    "matches = list(re.finditer(regex, full_text))\n",
    "matches"
   ]
  },
  {
   "cell_type": "code",
   "execution_count": 349,
   "metadata": {},
   "outputs": [
    {
     "name": "stdout",
     "output_type": "stream",
     "text": [
      "20280\n",
      "'and \\n\\ndeveloping workflows integrated with the solution. \\n\\n●  3  software developers (Frontex staff or contractors) who will be using the delivered API. \\n\\n \\n\\n\\x0cTOR \\n\\n \\n\\n5. \\n\\n5.1. \\n\\nCurrent Situation \\n\\nDescription of the current and target situation \\n\\nP a g e  | 9 \\n\\nCurrently Frontex processes 120 000 documents a year of different types and volumes, versions included \\n(for example: 60 Administrative'\n"
     ]
    }
   ],
   "source": [
    "i = full_text[970+20:].find(\"Description of the current and target situation\")+970+20\n",
    "print(i)\n",
    "print(repr(full_text[i-200:i+200]))"
   ]
  },
  {
   "cell_type": "code",
   "execution_count": 323,
   "metadata": {},
   "outputs": [
    {
     "name": "stdout",
     "output_type": "stream",
     "text": [
      "'3\\\\ \\\\\\n\\\\\\nLicenses\\\\ and\\\\ intellectual\\\\ property\\\\ rights\\\\ \\\\(IPR\\\\)\\\\ \\\\\\n\\\\\\n'\n"
     ]
    },
    {
     "data": {
      "text/plain": [
       "[<_sre.SRE_Match object; span=(4, 45), match='Licenses and intellectual property rights'>]"
      ]
     },
     "execution_count": 323,
     "metadata": {},
     "output_type": "execute_result"
    }
   ],
   "source": [
    "s = \"3 \\n\\nLicenses and intellectual property rights (IPR) \\n\\n\"\n",
    "print(repr(re.escape(s)))\n",
    "list(re.finditer(\"Licenses and intellectual property rights\", s))"
   ]
  },
  {
   "cell_type": "code",
   "execution_count": 261,
   "metadata": {
    "scrolled": true
   },
   "outputs": [
    {
     "name": "stdout",
     "output_type": "stream",
     "text": [
      "\n",
      "1. OBJECTIVES \n",
      "\n",
      "The objective of the contract is provision of conference services - organization, contracting and payment for the \n",
      "services related to the events organized by Frontex outside of Poland.  \n",
      " \n",
      "Events  in  Poland  are  covered  by  a  separate  service  contract  not  linked  with  this  call  for  tenders,  however,  if \n",
      "required, Frontex reserves the right to include Poland in the area of subject of the contract. \n",
      "\n",
      "2. DESCRIPTION OF THE TASKS  \n",
      "  \n",
      "The  specific  tasks  required  under  the  contract  are:  market  research,  obtaining  offers  from  potential  sub-\n",
      "contractors, negotiating best conditions of offers, preparation of comparison of offers, contracting of services and \n",
      "supplies  on  behalf  of  Frontex,  covering  of  payment  of  advances  for  the  services  and  final  payments  after  the \n",
      "events.  The  costs  covered  will  be  afterwards  reimbursed  by  Frontex  on  the  basis  of  an  invoice  issued  by  the \n",
      "contractor given that the costs are in line with the order issued by Frontex. \n",
      "\n",
      "The main services that shall be organized by the contractor are: \n",
      "reservation of meeting rooms and hotel accommodation,  organization of catering during the conferences as well \n",
      "as dinners in local restaurants, transport  arrangements, ensuring of  necessary technical equipment, provision of \n",
      "interpretation services, etc.  \n",
      " \n",
      "\n",
      "2.1 Contractor’s responsibilities  \n",
      "\n",
      "The Contractor shall provide high level professionalism and client-oriented approach to all services rendered for \n",
      "Frontex. The required contractor’s tasks are as follows:   \n",
      " \n",
      "\n",
      "Conducting  market  research  in  order  to  find  most  appropriate  service  providers  in  terms  of  price  in \n",
      "accordance with Frontex requirements indicated in the Request form for services (Annex 1); \n",
      "\n",
      " \n",
      "\n",
      "3 \n",
      "\n",
      "\f",
      "  Negotiating the best conditions of the offers obtained; \n",
      " \n",
      "\n",
      "After  written  confirmation  by  Frontex  in  form  of  a  specific  order,  making  logistic  arrangements  with  the \n",
      "selected hotel, venue and other service providers and suppliers, i.e. signing contracts and agreements with \n",
      "subcontractors;  \n",
      "\n",
      "  Making pre-payments and payments for arranged services;  \n",
      "  Making tentative or guarantee hotel room reservations for the conference/meeting participants according to \n",
      "\n",
      "the instructions received in the specific order; \n",
      "\n",
      " \n",
      "In  making  the  above  mentioned  arrangements  and  bookings  the  contractor  shall  make  every  effort  to  protect \n",
      "Frontex financial interest. In particular the contractor shall: \n",
      "\n",
      "a)  Negotiate for Frontex the best terms and prices, make use of the special discounts whenever possible; \n",
      "b)  Apply its own current agreements and discount prices with domestic and foreign hotels;  \n",
      "c)  Optimize the use of Frontex negotiated deals whenever possible;  \n",
      "d)  Propose any other steps to obtain best prices available and reduce costs;  \n",
      "e)  Make all efforts to minimize costs in case of last minute changes in the number of participants or their \n",
      "\n",
      "travel itinerary, cancellations, etc. \n",
      "\n",
      "2.2 Services covered by the contract \n",
      "\n",
      "The services required will be indicated in the Request form for services  (Annex 1) sent to the contractor before \n",
      "the planned event. The contractor shall arrange the services in line with the instructions received from Frontex.  \n",
      " \n",
      "Below is the indication of most required services to be organised under the contract. The below list is indicative \n",
      "as each event may require different type and number of services.  \n",
      " \n",
      "\n",
      "2.2.1 Conference venue/meeting rooms and technical equipment \n",
      "\n",
      "Standard conference package / conference room booking includes:  \n",
      "\n",
      "rental of a conference room;  \n",
      "\n",
      "a) \n",
      "b)  set  up  of  technical  equipment  such  as  PC/laptop  with  connection  to  internet,  multimedia  projector, \n",
      "\n",
      "screen, flipchart(s) and sound system whenever it is requested; \n",
      "\n",
      "c)  arrangement of appropriate space for catering services in proximity of the conference room; \n",
      "d) \n",
      "\n",
      "rental  of  additional  rooms  such  as  small  meeting  rooms,  business  centre  (printer,  xerocopy  machine), \n",
      "press room(s) whenever it is required. \n",
      "\n",
      " \n",
      "The  services  under  the  contract  relate  to  the  administrative  and  coordination  support  of  organisation  of \n",
      "conferences and events. The presence of Contractor's staff during the events will not be required. \n",
      "\n",
      "2.2.2 Accommodation \n",
      "\n",
      "The contractor will be responsible for the following tasks: \n",
      "\n",
      "a) \n",
      "\n",
      "b) \n",
      "\n",
      "identify suitable quality hotels (five, four or three stars, single/double rooms used as single ones/double \n",
      "rooms, including breakfast); \n",
      "the same quality and comfort of the hotel rooms and the same location (possibly) should be provided for \n",
      "all  guests  participating  in  an  event  and  as  many  rooms  as  possible  should  be  booked  in  a  minimum \n",
      "number of hotels (preferably in one hotel); \n",
      "\n",
      "c)  negotiation of best prices in accordance with the maximum hotel allowance ceilings for a given location \n",
      "\n",
      "according to Annex 2 (list of allowances outside of the EU will be provided after award of the contract); \n",
      "\n",
      "d)  negotiation of penalties and no-show-up policies as well as cancellation policies; \n",
      "e) \n",
      "\n",
      "tentative  or  guarantee  reservation  of  the  hotel  rooms  for  participants  of  the  meeting  as  well  Frontex \n",
      "staff, whenever it is requested. \n",
      "\n",
      " \n",
      "As a rule, Frontex requests only pre-booking of hotel rooms. The cost of the hotel accommodation is covered by \n",
      "guests individually and is not covered by contractor. Therefore, the final date for bookings is established and the \n",
      "rooms must be kept until the agreed deadline.  \n",
      " \n",
      "However, if specifically required by Frontex the payment for hotel accommodation will be included in the costs of \n",
      "the event.  \n",
      " \n",
      "\n",
      "4 \n",
      "\n",
      " \n",
      "\n",
      " \n",
      "\n",
      "\f",
      "2.2.3 Catering services \n",
      "\n",
      "Number and kind of catering services relates to the number of participants of the meeting and the character of \n",
      "the  meeting.  Detail  requirements  will  always  be  indicated  on  the  request  form  for  services.  Usually,  catering \n",
      "services  are  coffee  breaks,  lunches,  lunch  boxes  (to  be  taken  out  for)  and  dinners  offered  by  hotels  or  local \n",
      "restaurants. \n",
      " \n",
      "Regional specificities should be respected. \n",
      " \n",
      "\n",
      "2.2.4 Interpretation services \n",
      "\n",
      "The  contractor  will  be  responsible  for  selection  of  the  company  that  will  provide  high  quality  interpretation \n",
      "services adequate to Frontex requirements. Interpretation services will be requested on a case by case basis, all \n",
      "details  will  be  indicated  in  the  Request  form  for  services  issued  by  Frontex.  Both  simultaneous  cabin \n",
      "interpretation and/or consecutive interpretation services can be required.   \n",
      "\n",
      "2.2.5 Transport services \n",
      "Transportation services may be required from/to hotel and airport as well as the hotel and restaurant in case of \n",
      "an official dinner. \n",
      " \n",
      "Number  of  transport  means  and  its  kind  will  relate  to  the  size  and  location  of  the  meeting  venue,  restaurant, \n",
      "hotel and airport. Transport services are usually requested on a case by case basis.   \n",
      "\n",
      "2.2.6 Other services \n",
      " \n",
      "Beside the above-mentioned services contractor can be asked to arrange other services related to the events e,g \n",
      "security. \n",
      " \n",
      "In  the  case  of  cancellation  of  an  order  at  a  short  notice,  the  contractor  shall  make  all  efforts  to  minimize  the \n",
      "costs born by Frontex.  \n",
      " \n",
      "\n",
      "In  case  of  cancellation,  Frontex  will  cover  penalties  incurred  by  the  contractor  for  each  specific  service.  The \n",
      "contractor must be able to supply the documents confirming the penalty amounts for each service separately. \n",
      "\n",
      "\n"
     ]
    }
   ],
   "source": [
    "print(get_content_from_section(\"TECHNICAL DESCRIPTION\", full_text, section_matches))"
   ]
  },
  {
   "cell_type": "code",
   "execution_count": null,
   "metadata": {},
   "outputs": [],
   "source": []
  }
 ],
 "metadata": {
  "kernelspec": {
   "display_name": "Python 3",
   "language": "python",
   "name": "python3"
  },
  "language_info": {
   "codemirror_mode": {
    "name": "ipython",
    "version": 3
   },
   "file_extension": ".py",
   "mimetype": "text/x-python",
   "name": "python",
   "nbconvert_exporter": "python",
   "pygments_lexer": "ipython3",
   "version": "3.6.5"
  }
 },
 "nbformat": 4,
 "nbformat_minor": 2
}
